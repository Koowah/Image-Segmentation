{
 "cells": [
  {
   "cell_type": "markdown",
   "metadata": {},
   "source": [
    "# Preparing basic tools"
   ]
  },
  {
   "cell_type": "code",
   "execution_count": 1,
   "metadata": {},
   "outputs": [],
   "source": [
    "import numpy as np\n",
    "import cv2 as cv\n",
    "import matplotlib.pyplot as plt\n",
    "from sklearn.cluster import KMeans"
   ]
  },
  {
   "cell_type": "markdown",
   "metadata": {},
   "source": [
    "If the image is 8-bit unsigned, it is displayed as is.\n",
    "<br>If the image is 16-bit unsigned or 32-bit integer, the pixels are divided by 256. That is, the value range [0,255*256] is mapped to [0,255].\n",
    "<br>If the image is 32-bit floating-point, the pixel values are multiplied by 255. **That is, the value range [0,1] is mapped to [0,255].**"
   ]
  },
  {
   "cell_type": "code",
   "execution_count": 2,
   "metadata": {},
   "outputs": [],
   "source": [
    "def read_image(path : str):\n",
    "    image = cv.imread(path)\n",
    "    image //= 255 # see above\n",
    "    grey_img = cv.cvtColor(image, cv.COLOR_BGR2GRAY)\n",
    "    return grey_img, np.shape(grey_img)"
   ]
  },
  {
   "cell_type": "code",
   "execution_count": 3,
   "metadata": {},
   "outputs": [],
   "source": [
    "def identify_classes(X):\n",
    "    return np.unique(X)"
   ]
  },
  {
   "cell_type": "code",
   "execution_count": 4,
   "metadata": {},
   "outputs": [],
   "source": [
    "def display_image(title:str, image):\n",
    "    cv.imshow(title, image)\n",
    "    cv.waitKey()\n",
    "    cv.destroyAllWindows()"
   ]
  },
  {
   "cell_type": "code",
   "execution_count": 82,
   "metadata": {},
   "outputs": [],
   "source": [
    "def gauss_noise(X, m, n, cl1, cl2, m1, sig1, m2, sig2):\n",
    "    gaussian_class_1 = np.random.normal(m1, sig1, (m,n))\n",
    "    gaussian_class_1[X == cl2] = 0\n",
    "    gaussian_class_2 = np.random.normal(m2, sig2, (m,n)) # will probably have to use np.where class == {1,2}\n",
    "    gaussian_class_2[X == cl1] = 0\n",
    "    noise = gaussian_class_1 + gaussian_class_2\n",
    "\n",
    "    return noise"
   ]
  },
  {
   "cell_type": "code",
   "execution_count": 6,
   "metadata": {},
   "outputs": [],
   "source": [
    "def error_rate(tolerance, A, B, m, n):\n",
    "    return 1 - ((abs(A - B) <= tolerance).sum())/(m*n)"
   ]
  },
  {
   "cell_type": "code",
   "execution_count": 45,
   "metadata": {},
   "outputs": [],
   "source": [
    "def evaluate_kmeans(k, A, B):\n",
    "    shape = A.shape\n",
    "    \n",
    "    model = KMeans(n_clusters=k, random_state=0).fit(B.reshape(-1,1))\n",
    "    values = model.cluster_centers_\n",
    "    labels = model.labels_\n",
    "    img_seg = values[labels].reshape(shape)\n",
    "    \n",
    "    return img_seg, error_rate(0.1, img_seg, A, shape[0], shape[1])"
   ]
  },
  {
   "cell_type": "markdown",
   "metadata": {},
   "source": [
    "# Puisqu'il s'agit de segmenter ... segmentons !"
   ]
  },
  {
   "cell_type": "code",
   "execution_count": 46,
   "metadata": {},
   "outputs": [
    {
     "name": "stdout",
     "output_type": "stream",
     "text": [
      "classe 1 : 0, classe 2 : 1\n"
     ]
    }
   ],
   "source": [
    "path = './images_BW/cible2.bmp'\n",
    "image, shape = read_image(path)\n",
    "cl1, cl2 = identify_classes(image)\n",
    "print(f'classe 1 : {cl1}, classe 2 : {cl2}')"
   ]
  },
  {
   "cell_type": "code",
   "execution_count": 47,
   "metadata": {},
   "outputs": [],
   "source": [
    "display_image('image', 255*image)"
   ]
  },
  {
   "cell_type": "markdown",
   "metadata": {},
   "source": [
    "---"
   ]
  },
  {
   "cell_type": "code",
   "execution_count": 64,
   "metadata": {},
   "outputs": [],
   "source": [
    "noisy = (image + gauss_noise(image, shape[0], shape[1],cl1, cl2, 0, 1, 0, 0)).clip(0,1)\n",
    "noisy_1 = (noisy + gauss_noise(image, shape[0], shape[1],cl1, cl2, 0, 0, 0, 1)).clip(0,1)\n",
    "noice = [noisy, noisy_1]\n",
    "combine_noisy = np.concatenate(tuple(noice), axis=1)\n",
    "\n",
    "display_image('Noisy, Noisy_1', combine_noisy)"
   ]
  },
  {
   "cell_type": "code",
   "execution_count": 66,
   "metadata": {},
   "outputs": [],
   "source": [
    "img_seg, error = evaluate_kmeans(2, image, noisy_1)"
   ]
  },
  {
   "cell_type": "code",
   "execution_count": 67,
   "metadata": {},
   "outputs": [
    {
     "data": {
      "text/plain": [
       "0.52252197265625"
      ]
     },
     "execution_count": 67,
     "metadata": {},
     "output_type": "execute_result"
    }
   ],
   "source": [
    "error"
   ]
  },
  {
   "cell_type": "code",
   "execution_count": 68,
   "metadata": {},
   "outputs": [],
   "source": [
    "display_image('Noisy image, KMeans, Image', np.concatenate((noisy_1, img_seg, image), axis=1))"
   ]
  },
  {
   "cell_type": "markdown",
   "metadata": {},
   "source": [
    "---"
   ]
  },
  {
   "cell_type": "code",
   "execution_count": 69,
   "metadata": {},
   "outputs": [],
   "source": [
    "from scipy.stats import norm"
   ]
  },
  {
   "cell_type": "code",
   "execution_count": 75,
   "metadata": {},
   "outputs": [],
   "source": [
    "def calc_prior(X, m, n, cl1, cl2):\n",
    "    return ((X == cl1).sum()) / (m*n), ((X == cl2).sum()) / (m*n) # p(cl1), p(cl2) estimates"
   ]
  },
  {
   "cell_type": "code",
   "execution_count": 74,
   "metadata": {},
   "outputs": [],
   "source": [
    "def MPM_Gauss(Y, cl1, cl2, p1, p2, m1, sig1, m2, sig2):\n",
    "    flat_Y = Y.reshape(-1,1)\n",
    "    Y_hat = np.array([cl1 if p1*norm(m1, sig1).pdf(y-cl1) > p2*norm(m2, sig2).pdf(y-cl2) else cl2 for y in flat_Y])\n",
    "    \n",
    "    return Y_hat.reshape(Y.shape)"
   ]
  },
  {
   "cell_type": "code",
   "execution_count": 88,
   "metadata": {},
   "outputs": [
    {
     "name": "stdout",
     "output_type": "stream",
     "text": [
      "Classe 1 : 0 (black)\n",
      "Classe 2 : 1 (white)\n"
     ]
    }
   ],
   "source": [
    "X = image\n",
    "cl1, cl2 = identify_classes(X)\n",
    "print(f'Classe 1 : {cl1} (black)\\nClasse 2 : {cl2} (white)')"
   ]
  },
  {
   "cell_type": "code",
   "execution_count": 80,
   "metadata": {},
   "outputs": [],
   "source": [
    "m, n = X.shape[0], X.shape[1]"
   ]
  },
  {
   "cell_type": "code",
   "execution_count": 86,
   "metadata": {},
   "outputs": [
    {
     "name": "stdout",
     "output_type": "stream",
     "text": [
      "p(cl1) = p1 = 0.69488525390625\n",
      "p(cl2) = p2 = 0.30511474609375\n"
     ]
    }
   ],
   "source": [
    "p1, p2 = calc_prior(X, m, n, cl1, cl2)\n",
    "print(f'p(cl1) = p1 = {p1}\\np(cl2) = p2 = {p2}')"
   ]
  },
  {
   "cell_type": "code",
   "execution_count": 90,
   "metadata": {},
   "outputs": [],
   "source": [
    "m1, m2, sig1, sig2 = 0, 0, .3, .3"
   ]
  },
  {
   "cell_type": "code",
   "execution_count": 92,
   "metadata": {},
   "outputs": [],
   "source": [
    "Y = image + gauss_noise(X, m, n, cl1, cl2, m1, sig1, m2, sig2)\n",
    "display_image('Y', Y)"
   ]
  },
  {
   "cell_type": "code",
   "execution_count": 94,
   "metadata": {},
   "outputs": [],
   "source": [
    "Y_hat = MPM_Gauss(Y, cl1, cl2, p1, p2, m1, sig1, m2, sig2)"
   ]
  },
  {
   "cell_type": "code",
   "execution_count": 96,
   "metadata": {},
   "outputs": [],
   "source": [
    "display_image('Y_hat', Y_hat*255)"
   ]
  },
  {
   "cell_type": "code",
   "execution_count": 97,
   "metadata": {},
   "outputs": [
    {
     "name": "stdout",
     "output_type": "stream",
     "text": [
      "0.0433197021484375\n"
     ]
    }
   ],
   "source": [
    "print(error_rate(0, X, Y_hat, m, n))"
   ]
  },
  {
   "cell_type": "code",
   "execution_count": 98,
   "metadata": {},
   "outputs": [
    {
     "name": "stdout",
     "output_type": "stream",
     "text": [
      "0.053192138671875\n"
     ]
    }
   ],
   "source": [
    "print(evaluate_kmeans(2, X, Y)[1])"
   ]
  }
 ],
 "metadata": {
  "interpreter": {
   "hash": "7e2f77450d574f743a6d9d7e6faf87aa64c8f9c3d83f2013a355475f93227b48"
  },
  "kernelspec": {
   "display_name": "Python 3.8.8 64-bit ('data': conda)",
   "language": "python",
   "name": "python3"
  },
  "language_info": {
   "codemirror_mode": {
    "name": "ipython",
    "version": 3
   },
   "file_extension": ".py",
   "mimetype": "text/x-python",
   "name": "python",
   "nbconvert_exporter": "python",
   "pygments_lexer": "ipython3",
   "version": "3.8.8"
  },
  "orig_nbformat": 4
 },
 "nbformat": 4,
 "nbformat_minor": 2
}
