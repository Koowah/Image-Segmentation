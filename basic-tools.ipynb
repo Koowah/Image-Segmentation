{
 "cells": [
  {
   "cell_type": "markdown",
   "metadata": {},
   "source": [
    "# Preparing basic tools"
   ]
  },
  {
   "cell_type": "code",
   "execution_count": 1,
   "metadata": {},
   "outputs": [],
   "source": [
    "import numpy as np\n",
    "import cv2 as cv\n",
    "import matplotlib.pyplot as plt\n",
    "from sklearn.cluster import KMeans"
   ]
  },
  {
   "cell_type": "markdown",
   "metadata": {},
   "source": [
    "If the image is 8-bit unsigned, it is displayed as is.\n",
    "<br>If the image is 16-bit unsigned or 32-bit integer, the pixels are divided by 256. That is, the value range [0,255*256] is mapped to [0,255].\n",
    "<br>If the image is 32-bit floating-point, the pixel values are multiplied by 255. **That is, the value range [0,1] is mapped to [0,255].**"
   ]
  },
  {
   "cell_type": "code",
   "execution_count": 2,
   "metadata": {},
   "outputs": [],
   "source": [
    "def read_image(path : str):\n",
    "    image = cv.imread(path)\n",
    "    image //= 255 # see above\n",
    "    grey_img = cv.cvtColor(image, cv.COLOR_BGR2GRAY)\n",
    "    return grey_img, np.shape(grey_img)"
   ]
  },
  {
   "cell_type": "code",
   "execution_count": 3,
   "metadata": {},
   "outputs": [],
   "source": [
    "def identify_classes(X):\n",
    "    return np.unique(X)"
   ]
  },
  {
   "cell_type": "code",
   "execution_count": 4,
   "metadata": {},
   "outputs": [],
   "source": [
    "def display_image(title:str, image):\n",
    "    cv.imshow(title, image)\n",
    "    cv.waitKey()\n",
    "    cv.destroyAllWindows()"
   ]
  },
  {
   "cell_type": "code",
   "execution_count": 82,
   "metadata": {},
   "outputs": [],
   "source": [
    "def gauss_noise(X, m, n, cl1, cl2, m1, sig1, m2, sig2):\n",
    "    gaussian_class_1 = np.random.normal(m1, sig1, (m,n))\n",
    "    gaussian_class_1[X == cl2] = 0\n",
    "    gaussian_class_2 = np.random.normal(m2, sig2, (m,n)) # will probably have to use np.where class == {1,2}\n",
    "    gaussian_class_2[X == cl1] = 0\n",
    "    noise = gaussian_class_1 + gaussian_class_2\n",
    "\n",
    "    return noise"
   ]
  },
  {
   "cell_type": "code",
   "execution_count": 101,
   "metadata": {},
   "outputs": [],
   "source": [
    "def error_rate(tolerance, A, B, m, n):\n",
    "    return 1 - ((abs(A.clip(0,1) - B.clip(0,1)) <= tolerance).sum())/(m*n)"
   ]
  },
  {
   "cell_type": "code",
   "execution_count": 102,
   "metadata": {},
   "outputs": [],
   "source": [
    "def evaluate_kmeans(k, A, B):\n",
    "    shape = A.shape\n",
    "    \n",
    "    model = KMeans(n_clusters=k, random_state=0).fit(B.clip(0,1).reshape(-1,1))\n",
    "    values = model.cluster_centers_\n",
    "    labels = model.labels_\n",
    "    img_seg = values[labels].reshape(shape)\n",
    "    \n",
    "    return img_seg, error_rate(0.1, img_seg, A, shape[0], shape[1])"
   ]
  },
  {
   "cell_type": "markdown",
   "metadata": {},
   "source": [
    "# Puisqu'il s'agit de segmenter ... segmentons !"
   ]
  },
  {
   "cell_type": "code",
   "execution_count": 46,
   "metadata": {},
   "outputs": [
    {
     "name": "stdout",
     "output_type": "stream",
     "text": [
      "classe 1 : 0, classe 2 : 1\n"
     ]
    }
   ],
   "source": [
    "path = './images_BW/cible2.bmp'\n",
    "image, shape = read_image(path)\n",
    "cl1, cl2 = identify_classes(image)\n",
    "print(f'classe 1 : {cl1}, classe 2 : {cl2}')"
   ]
  },
  {
   "cell_type": "code",
   "execution_count": 47,
   "metadata": {},
   "outputs": [],
   "source": [
    "display_image('image', 255*image)"
   ]
  },
  {
   "cell_type": "markdown",
   "metadata": {},
   "source": [
    "---"
   ]
  },
  {
   "cell_type": "code",
   "execution_count": 64,
   "metadata": {},
   "outputs": [],
   "source": [
    "noisy = (image + gauss_noise(image, shape[0], shape[1],cl1, cl2, 0, 1, 0, 0)).clip(0,1)\n",
    "noisy_1 = (noisy + gauss_noise(image, shape[0], shape[1],cl1, cl2, 0, 0, 0, 1)).clip(0,1)\n",
    "noice = [noisy, noisy_1]\n",
    "combine_noisy = np.concatenate(tuple(noice), axis=1)\n",
    "\n",
    "display_image('Noisy, Noisy_1', combine_noisy)"
   ]
  },
  {
   "cell_type": "code",
   "execution_count": 66,
   "metadata": {},
   "outputs": [],
   "source": [
    "img_seg, error = evaluate_kmeans(2, image, noisy_1)"
   ]
  },
  {
   "cell_type": "code",
   "execution_count": 67,
   "metadata": {},
   "outputs": [
    {
     "data": {
      "text/plain": [
       "0.52252197265625"
      ]
     },
     "execution_count": 67,
     "metadata": {},
     "output_type": "execute_result"
    }
   ],
   "source": [
    "error"
   ]
  },
  {
   "cell_type": "code",
   "execution_count": 68,
   "metadata": {},
   "outputs": [],
   "source": [
    "display_image('Noisy image, KMeans, Image', np.concatenate((noisy_1, img_seg, image), axis=1))"
   ]
  },
  {
   "cell_type": "markdown",
   "metadata": {},
   "source": [
    "---"
   ]
  },
  {
   "cell_type": "code",
   "execution_count": 1,
   "metadata": {},
   "outputs": [],
   "source": [
    "from basictools import *\n",
    "from scipy.stats import norm\n",
    "\n",
    "# plotting libraries\n",
    "import matplotlib.pyplot as plt\n",
    "import seaborn as sns\n",
    "import pandas as pd"
   ]
  },
  {
   "cell_type": "code",
   "execution_count": 2,
   "metadata": {},
   "outputs": [],
   "source": [
    "def calc_prior(X, m, n, cl1, cl2):\n",
    "    return ((X == cl1).sum()) / (m*n), ((X == cl2).sum()) / (m*n) # p(cl1), p(cl2) estimates\n",
    "\n",
    "def calc_posterior_Gauss(Y, m, n, cl1, cl2, p1, p2, m1, sig1, m2, sig2):\n",
    "    # posterior = p(X | Y) = p(Y|X)p(X) / sum(p(Y|X)p(X)) for each class X\n",
    "    flat_Y = Y.reshape(-1,1)\n",
    "\n",
    "    if (p1, p2, m1, sig1, m2, sig2) == (0, 0, 0, 0, 0, 0):\n",
    "        post_cl1 = np.invert(flat_Y)\n",
    "        post_cl2 = flat_Y\n",
    "    else:\n",
    "        norm_1 = norm(m1, sig1)\n",
    "        norm_2 = norm(m2, sig2)\n",
    "        \n",
    "        f1 = p1*norm_1.pdf(flat_Y - cl1) # this way we call stats.norm only once\n",
    "        f2 = p2*norm_2.pdf(flat_Y - cl2)\n",
    "        \n",
    "        post_cl1 = (f1 / (f1 + f2))\n",
    "        post_cl2 = (f2 / (f1 + f2))\n",
    "        \n",
    "        # posterior = np.concatenate((post_cl1, post_cl2))\n",
    "        # assert np.prod(posterior.shape) == m*n*2, 'posterior shape should be m*n*2'\n",
    "    \n",
    "    \n",
    "    return post_cl1, post_cl2\n",
    "\n",
    "def posterior_sampling(post_cl1, post_cl2, cl1, cl2, m, n): # tirage_apost\n",
    "    sample = np.random.rand(m*n).reshape(-1,1) # m*n samples from uniform distribution over [0,1)\n",
    "    \n",
    "    condition1 = sample < post_cl1 # we draw cl1 with posterior probability of cl1 aka when our uniform sample(i) < post_cl1(i) and cl2 otherwise\n",
    "    condition2 = sample < post_cl2\n",
    "    X_est = (cl1 * condition1) + (cl2 * condition2)\n",
    "    \n",
    "    return X_est\n",
    "\n",
    "def init_param(Y, cl1, cl2): # initialize an estimate of X from KMeans\n",
    "    X_init, _ = evaluate_kmeans(2, Y, Y)\n",
    "    X_init[X_init == np.unique(X_init)[0]] = cl1\n",
    "    X_init[X_init == np.unique(X_init)[1]] = cl2\n",
    "    \n",
    "    return X_init\n",
    "\n",
    "def est_empirical(X, Y, cl1, cl2): # Empirical estimates of parameters\n",
    "    Y_flat = Y.reshape(-1,1)\n",
    "    X_flat = X.reshape(-1,1)\n",
    "    \n",
    "    p1 = (X_flat == cl1).sum() / X_flat.shape[0] # frequency estimates\n",
    "    p2 = (X_flat == cl2).sum() / X_flat.shape[0]\n",
    "    m1 = (Y_flat[X_flat == cl1] - cl1).sum() / (X_flat == cl1).sum() # means over noise realizations\n",
    "    m2 = (Y_flat[X_flat == cl2] - cl2).sum() / (X_flat == cl2).sum()\n",
    "    sig1 = np.sqrt((((Y_flat[X_flat == cl1] - cl1) - m1)**2).sum() / (X_flat == cl1).sum()) # stds over noise realizations\n",
    "    sig2 = np.sqrt((((Y_flat[X_flat == cl2] - cl2) - m2)**2).sum() / (X_flat == cl2).sum())\n",
    "    \n",
    "    return p1, p2, m1, sig1, m2, sig2\n",
    "\n",
    "def calc_SEM(Y, m, n, cl1, cl2, p10, p20, m10, sig10, m20, sig20, nb_iter):\n",
    "    # Y_flat = Y.reshape(-1,1)\n",
    "    dic = {'p1':[p10], 'p2':[p20], 'm1':[m10], 'm2':[m20], 'sig1':[sig10], 'sig2':[sig20]}\n",
    "    \n",
    "    for _ in range(nb_iter):\n",
    "        # Calculate posterior with current parameters\n",
    "        post1, post2 = calc_posterior_Gauss(Y, m, n, cl1, cl2, p10, p20, m10, sig10, m20, sig20)\n",
    "        \n",
    "        # Sample X from posterior distribution\n",
    "        X_est = posterior_sampling(post1, post2, cl1, cl2, m, n)\n",
    "        \n",
    "        # Empirically estimates of parameters from X_est\n",
    "        p10, p20, m10, sig10, m20, sig20 = est_empirical(X_est, Y, cl1, cl2)\n",
    "        \n",
    "        # To plot convergence\n",
    "        dic['p1'].append(p10)\n",
    "        dic['p2'].append(p20)\n",
    "        dic['m1'].append(m10)\n",
    "        dic['m2'].append(m20)\n",
    "        dic['sig1'].append(sig10)\n",
    "        dic['sig2'].append(sig20)\n",
    "    \n",
    "    return p10, p20, m10, sig10, m20, sig20, dic\n",
    "\n",
    "def calc_EM(Y, m, n, cl1, cl2, p10, p20, m10, sig10, m20, sig20, nb_iterEM):\n",
    "    Y_flat = Y.reshape(-1,1)\n",
    "    dic = {'p1':[p10], 'p2':[p20], 'm1':[m10], 'm2':[m20], 'sig1':[sig10], 'sig2':[sig20]}\n",
    "    \n",
    "    for _ in range(nb_iterEM):\n",
    "        # Expectation\n",
    "        post1, post2 = calc_posterior_Gauss(Y, m, n, cl1, cl2, p10, p20, m10, sig10, m20, sig20)\n",
    "       \n",
    "        # Maximization\n",
    "        p10 = post1.sum()/len(post1)\n",
    "        p20 = post2.sum()/len(post2)\n",
    "        m10 = (Y_flat*post1).sum()/post1.sum()\n",
    "        sig10 = np.sqrt(((((Y_flat - m10)**2) * post1).sum() / post1.sum()))\n",
    "        m20 = ((Y_flat - cl2)*post2).sum()/post2.sum()\n",
    "        sig20 = np.sqrt((((((Y_flat - cl2) - m20)**2) * post2).sum() / post2.sum()))\n",
    "        \n",
    "        # To plot convergence\n",
    "        dic['p1'].append(p10)\n",
    "        dic['p2'].append(p20)\n",
    "        dic['m1'].append(m10)\n",
    "        dic['m2'].append(m20)\n",
    "        dic['sig1'].append(sig10)\n",
    "        dic['sig2'].append(sig20)\n",
    "    \n",
    "    return p10, p20, m10, sig10, m20, sig20, dic"
   ]
  },
  {
   "cell_type": "code",
   "execution_count": 3,
   "metadata": {},
   "outputs": [
    {
     "name": "stdout",
     "output_type": "stream",
     "text": [
      "Class 1 : 0 (black)\n",
      "Class 2 : 1 (white)\n",
      "\n",
      "p(cl1) = p1 = 0.69488525390625\n",
      "p(cl2) = p2 = 0.30511474609375\n"
     ]
    }
   ],
   "source": [
    "path = './images_BW/cible2.bmp'\n",
    "X, shape = read_image(path)\n",
    "display_image('X', X * 255) # displays X\n",
    "\n",
    "cl1, cl2 = identify_classes(X) # identify image classes (two in our case)\n",
    "print(f'Class 1 : {cl1} (black)\\nClass 2 : {cl2} (white)') \n",
    "\n",
    "m, n = shape[0], shape[1] # X shape\n",
    "\n",
    "p1, p2 = calc_prior(X, m, n, cl1, cl2) # priors of each class\n",
    "print(f'\\np(cl1) = p1 = {p1}\\np(cl2) = p2 = {p2}')\n",
    "\n",
    "m1, sig1, m2, sig2 = .2, .2, -.3, .2 # gaussian noise parameters    \n",
    "Y = X + gauss_noise(X, m, n, cl1, cl2, m1, sig1, m2, sig2) # adding noise to image\n",
    "display_image('Y', Y)"
   ]
  },
  {
   "cell_type": "code",
   "execution_count": 4,
   "metadata": {},
   "outputs": [],
   "source": [
    "\n",
    "################################################################################################\n",
    "# Hocus pocus, you lost your focus ! and forgot everything you knew about the above parameters #\n",
    "################################################################################################\n",
    "\n",
    "p1, p2, m1, m2, sig1, sig2 = 0, 0, 0, 0, 0, 0 # he 4gett ... but he also estimett !\n",
    "p1, p2, m1, sig1, m2, sig2 = est_empirical(init_param(Y, cl1, cl2), Y, cl1, cl2) # empirically estimating a starting point for EM & SEM algorithms"
   ]
  },
  {
   "cell_type": "code",
   "execution_count": 5,
   "metadata": {},
   "outputs": [
    {
     "data": {
      "text/plain": [
       "(0.637115478515625,\n",
       " 0.362884521484375,\n",
       " 0.16247527618680982,\n",
       " 0.16630425144289418,\n",
       " -0.3123948928799015,\n",
       " 0.17891306044730698)"
      ]
     },
     "execution_count": 5,
     "metadata": {},
     "output_type": "execute_result"
    }
   ],
   "source": [
    "p1, p2, m1, sig1, m2, sig2 # first estimates"
   ]
  },
  {
   "cell_type": "markdown",
   "metadata": {},
   "source": [
    "---"
   ]
  },
  {
   "cell_type": "markdown",
   "metadata": {},
   "source": [
    "Let's manually test each step of SEM\n",
    "\n",
    "Actual parameters : **m1, sig1, m2, sig2 = .2, .2, -.3, .2**\n",
    "- Compute posterior\n",
    "- Sample X_est from posterior\n",
    "- Estimate parameters empirically"
   ]
  },
  {
   "cell_type": "code",
   "execution_count": 6,
   "metadata": {},
   "outputs": [],
   "source": [
    "post1, post2 = calc_posterior_Gauss(Y, m, n, cl1, cl2, p1, p2, m1, sig1, m2, sig2)"
   ]
  },
  {
   "cell_type": "code",
   "execution_count": 7,
   "metadata": {},
   "outputs": [],
   "source": [
    "display_image('post1 & post2', np.concatenate((post1.reshape(m,n), post2.reshape(m,n)), axis=1))"
   ]
  },
  {
   "cell_type": "code",
   "execution_count": 8,
   "metadata": {},
   "outputs": [
    {
     "data": {
      "text/plain": [
       "<seaborn.axisgrid.FacetGrid at 0x2024f0b56d0>"
      ]
     },
     "execution_count": 8,
     "metadata": {},
     "output_type": "execute_result"
    },
    {
     "data": {
      "image/png": "[encoded data removed]",
      "text/plain": [
       "<Figure size 402.375x360 with 1 Axes>"
      ]
     },
     "metadata": {
      "needs_background": "light"
     },
     "output_type": "display_data"
    }
   ],
   "source": [
    "sns.displot(post2)"
   ]
  },
  {
   "cell_type": "code",
   "execution_count": 9,
   "metadata": {},
   "outputs": [],
   "source": [
    "x_est = posterior_sampling(post1, post2, cl1, cl2, m, n)"
   ]
  },
  {
   "cell_type": "code",
   "execution_count": 10,
   "metadata": {},
   "outputs": [],
   "source": [
    "display_image('x_est', x_est.reshape(m,n)*255)"
   ]
  },
  {
   "cell_type": "code",
   "execution_count": 11,
   "metadata": {},
   "outputs": [
    {
     "data": {
      "text/plain": [
       "<seaborn.axisgrid.FacetGrid at 0x2024b1489d0>"
      ]
     },
     "execution_count": 11,
     "metadata": {},
     "output_type": "execute_result"
    },
    {
     "data": {
      "image/png": "[encoded data removed]",
      "text/plain": [
       "<Figure size 402.375x360 with 1 Axes>"
      ]
     },
     "metadata": {
      "needs_background": "light"
     },
     "output_type": "display_data"
    }
   ],
   "source": [
    "sns.displot(x_est)"
   ]
  },
  {
   "cell_type": "code",
   "execution_count": 12,
   "metadata": {},
   "outputs": [
    {
     "data": {
      "text/plain": [
       "0.643798828125"
      ]
     },
     "execution_count": 12,
     "metadata": {},
     "output_type": "execute_result"
    }
   ],
   "source": [
    "(x_est == 0).sum()/len(x_est)"
   ]
  },
  {
   "cell_type": "code",
   "execution_count": 13,
   "metadata": {},
   "outputs": [
    {
     "data": {
      "text/plain": [
       "0.356201171875"
      ]
     },
     "execution_count": 13,
     "metadata": {},
     "output_type": "execute_result"
    }
   ],
   "source": [
    "(x_est == 1).sum()/len(x_est)"
   ]
  },
  {
   "cell_type": "code",
   "execution_count": 14,
   "metadata": {},
   "outputs": [
    {
     "data": {
      "text/plain": [
       "(0.643798828125,\n",
       " 0.356201171875,\n",
       " 0.17283875189555606,\n",
       " 0.17894766258771708,\n",
       " -0.3212729301123655,\n",
       " 0.19602889031532778)"
      ]
     },
     "execution_count": 14,
     "metadata": {},
     "output_type": "execute_result"
    }
   ],
   "source": [
    "p1, p2, m1, sig1, m2, sig2 = est_empirical(x_est, Y, cl1, cl2)\n",
    "p1, p2, m1, sig1, m2, sig2"
   ]
  },
  {
   "cell_type": "markdown",
   "metadata": {},
   "source": [
    "One iteration yields :\n",
    "\n",
    "(0.643798828125,\n",
    " 0.356201171875,\n",
    " 0.17283875189555606,\n",
    " 0.17894766258771708,\n",
    " -0.3212729301123655,\n",
    " 0.19602889031532778)\n",
    "\n",
    " VS \n",
    "\n",
    " (0.637115478515625,\n",
    " 0.362884521484375,\n",
    " 0.16247527618680982,\n",
    " 0.16630425144289418,\n",
    " -0.3123948928799015,\n",
    " 0.17891306044730698)\n",
    "\n",
    " with real parameters p1, p2, m1, sig1, m2, sig2 = .69, .31, .2, .2, -.3, .2\n",
    "\n",
    " **This iteration is moving in the right direction**"
   ]
  },
  {
   "cell_type": "code",
   "execution_count": 15,
   "metadata": {},
   "outputs": [],
   "source": [
    "post1, post2 = calc_posterior_Gauss(Y, m, n, cl1, cl2, p1, p2, m1, sig1, m2, sig2)\n",
    "x_est = posterior_sampling(post1, post2, cl1, cl2, m, n)\n",
    "p1, p2, m1, sig1, m2, sig2 = est_empirical(x_est, Y, cl1, cl2)"
   ]
  },
  {
   "cell_type": "code",
   "execution_count": 16,
   "metadata": {},
   "outputs": [
    {
     "data": {
      "text/plain": [
       "(0.647369384765625,\n",
       " 0.352630615234375,\n",
       " 0.17836935964956752,\n",
       " 0.18528323070843816,\n",
       " -0.32630381276756,\n",
       " 0.20458693822171517)"
      ]
     },
     "execution_count": 16,
     "metadata": {},
     "output_type": "execute_result"
    }
   ],
   "source": [
    "p1, p2, m1, sig1, m2, sig2"
   ]
  },
  {
   "cell_type": "markdown",
   "metadata": {},
   "source": [
    "nope"
   ]
  },
  {
   "cell_type": "code",
   "execution_count": 17,
   "metadata": {},
   "outputs": [
    {
     "data": {
      "text/plain": [
       "(0.65155029296875,\n",
       " 0.34844970703125,\n",
       " 0.18218372632646845,\n",
       " 0.1885608117656777,\n",
       " -0.32749289607225274,\n",
       " 0.20916062281838443)"
      ]
     },
     "execution_count": 17,
     "metadata": {},
     "output_type": "execute_result"
    }
   ],
   "source": [
    "post1, post2 = calc_posterior_Gauss(Y, m, n, cl1, cl2, p1, p2, m1, sig1, m2, sig2)\n",
    "x_est = posterior_sampling(post1, post2, cl1, cl2, m, n)\n",
    "p1, p2, m1, sig1, m2, sig2 = est_empirical(x_est, Y, cl1, cl2)\n",
    "p1, p2, m1, sig1, m2, sig2"
   ]
  },
  {
   "cell_type": "code",
   "execution_count": 18,
   "metadata": {},
   "outputs": [
    {
     "data": {
      "text/plain": [
       "(0.652069091796875,\n",
       " 0.347930908203125,\n",
       " 0.18364297878681815,\n",
       " 0.19043679575004122,\n",
       " -0.3294966106500152,\n",
       " 0.2115261247937386)"
      ]
     },
     "execution_count": 18,
     "metadata": {},
     "output_type": "execute_result"
    }
   ],
   "source": [
    "post1, post2 = calc_posterior_Gauss(Y, m, n, cl1, cl2, p1, p2, m1, sig1, m2, sig2)\n",
    "x_est = posterior_sampling(post1, post2, cl1, cl2, m, n)\n",
    "p1, p2, m1, sig1, m2, sig2 = est_empirical(x_est, Y, cl1, cl2)\n",
    "p1, p2, m1, sig1, m2, sig2"
   ]
  },
  {
   "cell_type": "code",
   "execution_count": 19,
   "metadata": {},
   "outputs": [
    {
     "data": {
      "text/plain": [
       "(0.6525115966796875,\n",
       " 0.3474884033203125,\n",
       " 0.1847023272799449,\n",
       " 0.1918461024304348,\n",
       " -0.3308658622947369,\n",
       " 0.21301070737505384)"
      ]
     },
     "execution_count": 19,
     "metadata": {},
     "output_type": "execute_result"
    }
   ],
   "source": [
    "post1, post2 = calc_posterior_Gauss(Y, m, n, cl1, cl2, p1, p2, m1, sig1, m2, sig2)\n",
    "x_est = posterior_sampling(post1, post2, cl1, cl2, m, n)\n",
    "p1, p2, m1, sig1, m2, sig2 = est_empirical(x_est, Y, cl1, cl2)\n",
    "p1, p2, m1, sig1, m2, sig2"
   ]
  },
  {
   "cell_type": "markdown",
   "metadata": {},
   "source": [
    "---"
   ]
  },
  {
   "cell_type": "code",
   "execution_count": 20,
   "metadata": {},
   "outputs": [
    {
     "name": "stdout",
     "output_type": "stream",
     "text": [
      "EM\n",
      "p1: 0.709243694146873, p2 : 0.290756305853127, m1 : 0.20622373215082804, sig1 : 0.2026409429877486, m2 : -0.28884128107182494, sig2 : 0.19706673863521684\n"
     ]
    },
    {
     "data": {
      "image/png": "[encoded data removed]",
      "text/plain": [
       "<Figure size 419.725x360 with 1 Axes>"
      ]
     },
     "metadata": {},
     "output_type": "display_data"
    }
   ],
   "source": [
    "\n",
    "p1_em, p2_em, m1_em, sig1_em, m2_em, sig2_em, dic_em = calc_EM(Y, m, n, cl1, cl2, p1, p2, m1, sig1, m2, sig2, 300) # EM algorithm estimates\n",
    "\n",
    "print(f'EM\\np1: {p1_em}, p2 : {p2_em}, m1 : {m1_em}, sig1 : {sig1_em}, m2 : {m2_em}, sig2 : {sig2_em}')\n",
    "\n",
    "df_em = pd.DataFrame.from_dict(dic_em)\n",
    "\n",
    "sns.set()\n",
    "sns.relplot(data=df_em, kind='line') # Plotting evolution of parameters over EM iterations\n",
    "plt.show()\n",
    "\n",
    "# si le bruit 0, 0, .6, .6 ça converge vers un minimum local        "
   ]
  },
  {
   "cell_type": "code",
   "execution_count": 23,
   "metadata": {},
   "outputs": [
    {
     "name": "stdout",
     "output_type": "stream",
     "text": [
      "SEM\n",
      "p1: 0.710906982421875, p2 : 0.289093017578125, m1 : 0.20661051331503547, sig1 : 0.20270672184628788, m2 : -0.2868872836436853, sig2 : 0.19556672697276453\n"
     ]
    }
   ],
   "source": [
    "p1_sem, p2_sem, m1_sem, sig1_sem, m2_sem, sig2_sem, dic_sem = calc_SEM(Y, m, n, cl1, cl2, p1, p2, m1, sig1, m2, sig2, 100)\n",
    "print(f'SEM\\np1: {p1_sem}, p2 : {p2_sem}, m1 : {m1_sem}, sig1 : {sig1_sem}, m2 : {m2_sem}, sig2 : {sig2_sem}')"
   ]
  },
  {
   "cell_type": "code",
   "execution_count": 24,
   "metadata": {},
   "outputs": [
    {
     "data": {
      "text/plain": [
       "<seaborn.axisgrid.FacetGrid at 0x20253787b20>"
      ]
     },
     "execution_count": 24,
     "metadata": {},
     "output_type": "execute_result"
    },
    {
     "data": {
      "image/png": "[encoded data removed]",
      "text/plain": [
       "<Figure size 419.725x360 with 1 Axes>"
      ]
     },
     "metadata": {},
     "output_type": "display_data"
    }
   ],
   "source": [
    "df_sem = pd.DataFrame.from_dict(dic_sem)\n",
    "sns.relplot(data=df_sem, kind='line') # Plotting evolution of parameters over SEM iterations"
   ]
  }
 ],
 "metadata": {
  "interpreter": {
   "hash": "7e2f77450d574f743a6d9d7e6faf87aa64c8f9c3d83f2013a355475f93227b48"
  },
  "kernelspec": {
   "display_name": "Python 3.8.8 64-bit ('data': conda)",
   "language": "python",
   "name": "python3"
  },
  "language_info": {
   "codemirror_mode": {
    "name": "ipython",
    "version": 3
   },
   "file_extension": ".py",
   "mimetype": "text/x-python",
   "name": "python",
   "nbconvert_exporter": "python",
   "pygments_lexer": "ipython3",
   "version": "3.8.8"
  },
  "orig_nbformat": 4
 },
 "nbformat": 4,
 "nbformat_minor": 2
}
